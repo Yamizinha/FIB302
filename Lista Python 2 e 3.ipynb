{
  "nbformat": 4,
  "nbformat_minor": 0,
  "metadata": {
    "colab": {
      "provenance": []
    },
    "kernelspec": {
      "name": "python3",
      "display_name": "Python 3"
    },
    "language_info": {
      "name": "python"
    }
  },
  "cells": [
    {
      "cell_type": "code",
      "source": [
        "a = 8   # Número inteiro\n",
        "b = 2.5    # Número com ponto flutuante\n",
        "c = 'banana'  # String\n",
        "\n",
        "print ('A variável a é tipo', type(a))\n",
        "print ('A variável b é tipo', type(b))\n",
        "print ('A variável c é tipo', type(c))"
      ],
      "metadata": {
        "colab": {
          "base_uri": "https://localhost:8080/"
        },
        "id": "xEuJMo9XCiPq",
        "outputId": "c21ee36a-3996-46c2-f5e3-1304ce9d3ed9"
      },
      "execution_count": null,
      "outputs": [
        {
          "output_type": "stream",
          "name": "stdout",
          "text": [
            "A variável a é tipo <class 'int'>\n",
            "A variável b é tipo <class 'float'>\n",
            "A variável c é tipo <class 'str'>\n"
          ]
        }
      ]
    },
    {
      "cell_type": "code",
      "source": [
        "print (13 + 22)    # adição"
      ],
      "metadata": {
        "colab": {
          "base_uri": "https://localhost:8080/"
        },
        "id": "xRxHBrPNEFsW",
        "outputId": "f9c883d3-f956-4b5b-e047-fc9e38790920"
      },
      "execution_count": null,
      "outputs": [
        {
          "output_type": "stream",
          "name": "stdout",
          "text": [
            "35\n"
          ]
        }
      ]
    },
    {
      "cell_type": "code",
      "source": [
        "print (7.8/30.32)   # divisão de dois números com ponto flutuante"
      ],
      "metadata": {
        "colab": {
          "base_uri": "https://localhost:8080/"
        },
        "id": "Oj1Io8azEWm9",
        "outputId": "351bcaba-1e95-4701-d578-071aebd882b6"
      },
      "execution_count": null,
      "outputs": [
        {
          "output_type": "stream",
          "name": "stdout",
          "text": [
            "0.25725593667546176\n"
          ]
        }
      ]
    },
    {
      "cell_type": "code",
      "source": [
        "# criação de duas strings, para a divisão das mesmas\n",
        "\n",
        "d = 'melancia'  # String 1\n",
        "\n",
        "e = 'cachorro'  # String 2\n",
        "\n",
        "print ('A variável d é tipo', type(d))\n",
        "print ('A variável e é tipo', type(e))\n",
        "\n",
        "print (\"a divisão das strings é:\", d + e)"
      ],
      "metadata": {
        "colab": {
          "base_uri": "https://localhost:8080/"
        },
        "id": "HGq0mDM8EnHN",
        "outputId": "77f6a389-c9dd-40c1-fe3b-da441f2df122"
      },
      "execution_count": null,
      "outputs": [
        {
          "output_type": "stream",
          "name": "stdout",
          "text": [
            "A variável d é tipo <class 'str'>\n",
            "A variável e é tipo <class 'str'>\n",
            "a divisão das strings é: melanciacachorro\n"
          ]
        }
      ]
    },
    {
      "cell_type": "code",
      "source": [
        "# Solicita uma entrada do usuário\n",
        "entrada = input(\"Digite algo: \")\n",
        "\n",
        "# Imprime a entrada do usuário\n",
        "print(\"Você digitou:\", entrada)"
      ],
      "metadata": {
        "colab": {
          "base_uri": "https://localhost:8080/"
        },
        "id": "k8ctZXSZeoiJ",
        "outputId": "bc8b8596-d613-42c8-902c-02f4eed7eac6"
      },
      "execution_count": null,
      "outputs": [
        {
          "output_type": "stream",
          "name": "stdout",
          "text": [
            "Digite algo: 2\n",
            "Você digitou: 2\n"
          ]
        }
      ]
    },
    {
      "cell_type": "code",
      "source": [
        "# Solicita ao usuário para inserir seu nome\n",
        "nome = input(\"Insira seu nome: \")\n",
        "\n",
        "# Imprime uma mensagem de boas-vindas usando o nome inserido\n",
        "print(\"Olá,\", nome + \"! Bem-vindo(a)!\")"
      ],
      "metadata": {
        "colab": {
          "base_uri": "https://localhost:8080/"
        },
        "id": "QfbZCw33e5Ey",
        "outputId": "0fd794d6-5474-43d4-ae61-14e1f65d8cf4"
      },
      "execution_count": null,
      "outputs": [
        {
          "output_type": "stream",
          "name": "stdout",
          "text": [
            "Insira seu nome: Anelisa\n",
            "Olá, Anelisa! Bem-vindo(a)!\n"
          ]
        }
      ]
    },
    {
      "cell_type": "code",
      "source": [
        "# Solicita ao usuário para inserir o comprimento e a largura do retângulo\n",
        "comprimento = float(input(\"Digite o comprimento do retângulo: \"))\n",
        "largura = float(input(\"Digite a largura do retângulo: \"))\n",
        "\n",
        "# Calcula a área do retângulo\n",
        "area = comprimento * largura\n",
        "\n",
        "# Imprime o resultado\n",
        "print(\"A área do retângulo é:\", area)"
      ],
      "metadata": {
        "colab": {
          "base_uri": "https://localhost:8080/"
        },
        "id": "qw_-GZKSfKo4",
        "outputId": "b5cf272d-d2a7-404d-83bf-4740a273d9e3"
      },
      "execution_count": null,
      "outputs": [
        {
          "output_type": "stream",
          "name": "stdout",
          "text": [
            "Digite o comprimento do retângulo: 3\n",
            "Digite a largura do retângulo: 5\n",
            "A área do retângulo é: 15.0\n"
          ]
        }
      ]
    },
    {
      "cell_type": "code",
      "source": [
        "# Solicita ao usuário para inserir a temperatura em Celsius\n",
        "Celsius = float(input(\"Digite a temperatura em Celsius: \"))\n",
        "\n",
        "# Converte a temperatura de Celsius para Fahrenheit\n",
        "Fahrenheit = (Celsius * 9/5) + 32\n",
        "\n",
        "# Imprime o resultado\n",
        "print(\"A temperatura em Fahrenheit é:\", Fahrenheit)"
      ],
      "metadata": {
        "colab": {
          "base_uri": "https://localhost:8080/"
        },
        "id": "SfC2yxfIfUdV",
        "outputId": "637f5b04-ea99-4b28-c331-724e60eef186"
      },
      "execution_count": null,
      "outputs": [
        {
          "output_type": "stream",
          "name": "stdout",
          "text": [
            "Digite a temperatura em Celsius: 27\n",
            "A temperatura em Fahrenheit é: 80.6\n"
          ]
        }
      ]
    },
    {
      "cell_type": "code",
      "source": [
        "# Calcula o valor da expressão\n",
        "resultado = (2 * (3 + 4)) / 5\n",
        "\n",
        "# Imprime o resultado\n",
        "print(\"O valor da expressão é:\", resultado)"
      ],
      "metadata": {
        "colab": {
          "base_uri": "https://localhost:8080/"
        },
        "id": "M28-0GnmfqAf",
        "outputId": "d156af68-28dd-4075-eb82-6c8e839669ad"
      },
      "execution_count": null,
      "outputs": [
        {
          "output_type": "stream",
          "name": "stdout",
          "text": [
            "O valor da expressão é: 2.8\n"
          ]
        }
      ]
    },
    {
      "cell_type": "code",
      "source": [
        "# Cria uma string\n",
        "texto = \"Bananas!\"\n",
        "\n",
        "# Inverte a string usando fatiamento de string\n",
        "texto_invertido = texto[::-1]\n",
        "\n",
        "# Imprime a string invertida\n",
        "print(\"String invertida:\", texto_invertido)"
      ],
      "metadata": {
        "colab": {
          "base_uri": "https://localhost:8080/"
        },
        "id": "gAKPoizqgA5D",
        "outputId": "0c13acf8-a3b2-4015-cc0d-07743ee494cf"
      },
      "execution_count": null,
      "outputs": [
        {
          "output_type": "stream",
          "name": "stdout",
          "text": [
            "String invertida: !sananaB\n"
          ]
        }
      ]
    },
    {
      "cell_type": "code",
      "source": [
        "# Cria uma string com uma mistura de letras maiúsculas e minúsculas\n",
        "texto = \"BaNaNaS\"\n",
        "\n",
        "# Converte a string para letras maiúsculas\n",
        "texto_maiusculo = texto.upper()\n",
        "\n",
        "# Imprime a string em letras maiúsculas\n",
        "print(\"String em letras maiúsculas:\", texto_maiusculo)"
      ],
      "metadata": {
        "colab": {
          "base_uri": "https://localhost:8080/"
        },
        "id": "06V_VeIegLHt",
        "outputId": "34d1bc7f-1425-4814-fde9-570a1004502f"
      },
      "execution_count": null,
      "outputs": [
        {
          "output_type": "stream",
          "name": "stdout",
          "text": [
            "String em letras maiúsculas: BANANAS\n"
          ]
        }
      ]
    },
    {
      "cell_type": "markdown",
      "source": [
        "# Continuação das atividades - Lista Python 2"
      ],
      "metadata": {
        "id": "_Nv6cGTex-zf"
      }
    },
    {
      "cell_type": "code",
      "source": [
        "# Lista com cinco inteiros.\n",
        "lista = [1, 2, 3, 4, 5]\n",
        "\n",
        "# Imprimir a lista inteira e o terceiro elemento.\n",
        "print(lista)\n",
        "print(lista[2])"
      ],
      "metadata": {
        "colab": {
          "base_uri": "https://localhost:8080/"
        },
        "id": "2JnyxwKwyKnk",
        "outputId": "e91cbe98-4355-4dfd-d305-74eeb7d24e3c"
      },
      "execution_count": null,
      "outputs": [
        {
          "output_type": "stream",
          "name": "stdout",
          "text": [
            "[1, 2, 3, 4, 5]\n",
            "3\n"
          ]
        }
      ]
    },
    {
      "cell_type": "code",
      "source": [
        "# Crie uma lista vazia e anexe três inteiros a ela.\n",
        "lista_vazia = []\n",
        "lista_vazia.append(1)\n",
        "lista_vazia.append(2)\n",
        "lista_vazia.append(3)\n",
        "\n",
        "# Estenda a lista com outra lista contendo mais dois inteiros.\n",
        "lista_vazia.extend([4, 5])\n",
        "\n",
        "# Imprima a lista final.\n",
        "print(lista_vazia)\n"
      ],
      "metadata": {
        "colab": {
          "base_uri": "https://localhost:8080/"
        },
        "id": "hmpvAxkozlIn",
        "outputId": "5abf27a6-9b92-4b18-db9b-e10c2e261a43"
      },
      "execution_count": null,
      "outputs": [
        {
          "output_type": "stream",
          "name": "stdout",
          "text": [
            "[1, 2, 3, 4, 5]\n"
          ]
        }
      ]
    },
    {
      "cell_type": "code",
      "source": [
        "# Defina uma lista de 10 números.\n",
        "lista_numeros = list(range(10))\n",
        "\n",
        "# Imprima os primeiros cinco números e os últimos cinco números usando fatiamento.\n",
        "print(lista_numeros[:5])\n",
        "print(lista_numeros[-5:])\n"
      ],
      "metadata": {
        "colab": {
          "base_uri": "https://localhost:8080/"
        },
        "id": "Xv31Mj9E0N9y",
        "outputId": "646e3dfe-53dc-4fd8-feca-7f23fc360ca9"
      },
      "execution_count": null,
      "outputs": [
        {
          "output_type": "stream",
          "name": "stdout",
          "text": [
            "[0, 1, 2, 3, 4]\n",
            "[5, 6, 7, 8, 9]\n"
          ]
        }
      ]
    },
    {
      "cell_type": "code",
      "source": [
        "# Crie duas listas de comprimento igual contendo inteiros. OBS: Sem usar o FOR, só deu certo com o \"in zip\".\n",
        "lista1 = [1, 2, 3, 4]\n",
        "lista2 = [5, 6, 7, 8]\n",
        "\n",
        "# Adicione os elementos correspondentes das duas listas e imprima o resultado.\n",
        "resultado = [a + b for a, b in zip(lista1, lista2)]\n",
        "print(resultado)\n"
      ],
      "metadata": {
        "colab": {
          "base_uri": "https://localhost:8080/"
        },
        "id": "QQ6tTLIO0amq",
        "outputId": "e343c310-9058-485a-e66d-bd78af0f1370"
      },
      "execution_count": null,
      "outputs": [
        {
          "output_type": "stream",
          "name": "stdout",
          "text": [
            "[6, 8, 10, 12]\n"
          ]
        }
      ]
    },
    {
      "cell_type": "code",
      "source": [
        "# Defina duas listas e concatene-as. OBS: sem usar o operador +.\n",
        "lista_a = [1, 2, 3]\n",
        "lista_b = [4, 5, 6]\n",
        "\n",
        "# Imprima a lista concatenada.\n",
        "lista_concatenada = lista_a.extend(lista_b)\n",
        "print(lista_a)\n"
      ],
      "metadata": {
        "colab": {
          "base_uri": "https://localhost:8080/"
        },
        "id": "v7CI_hck1Y1r",
        "outputId": "405b41a4-06ad-4dbe-f18c-794751a14fa1"
      },
      "execution_count": null,
      "outputs": [
        {
          "output_type": "stream",
          "name": "stdout",
          "text": [
            "[1, 2, 3, 4, 5, 6]\n"
          ]
        }
      ]
    },
    {
      "cell_type": "code",
      "source": [
        "import numpy as np\n",
        "\n",
        "# Crie um array de inteiros.\n",
        "array_inteiros = np.array([1, 2, 3, 4, 5])\n",
        "\n",
        "# Imprima o array.\n",
        "print(array_inteiros)\n"
      ],
      "metadata": {
        "colab": {
          "base_uri": "https://localhost:8080/"
        },
        "id": "E0xzNnUU1ty3",
        "outputId": "f9a9d4b5-dbc7-41d7-8de9-aaf2b75e3a10"
      },
      "execution_count": null,
      "outputs": [
        {
          "output_type": "stream",
          "name": "stdout",
          "text": [
            "[1 2 3 4 5]\n"
          ]
        }
      ]
    },
    {
      "cell_type": "code",
      "source": [
        "# Crie um array de números de ponto flutuante.\n",
        "array_float = np.array([1.6, 2.1, 3.3, 4.2, 5.9])\n",
        "\n",
        "# Acesse o terceiro elemento e modifique-o.\n",
        "array_float[2] = 10.3\n",
        "\n",
        "# Imprima o array modificado.\n",
        "print(array_float)\n"
      ],
      "metadata": {
        "colab": {
          "base_uri": "https://localhost:8080/"
        },
        "id": "dKkEfrGY2EJC",
        "outputId": "932c1d53-1e69-4136-db12-b51cf8b8249f"
      },
      "execution_count": null,
      "outputs": [
        {
          "output_type": "stream",
          "name": "stdout",
          "text": [
            "[ 1.6  2.1 10.3  4.2  5.9]\n"
          ]
        }
      ]
    },
    {
      "cell_type": "code",
      "source": [
        "# Defina dois arrays de inteiros usando a biblioteca numpy.\n",
        "array1 = np.array([1, 2, 3, 4])\n",
        "array2 = np.array([5, 6, 7, 8])\n",
        "\n",
        "# Adicione os elementos correspondentes e imprima o resultado.\n",
        "resultado_array = array1 + array2\n",
        "print(resultado_array)\n"
      ],
      "metadata": {
        "colab": {
          "base_uri": "https://localhost:8080/"
        },
        "id": "EhEF4VTo2UQc",
        "outputId": "35196d9f-211f-482c-adb4-601cd1d468b1"
      },
      "execution_count": null,
      "outputs": [
        {
          "output_type": "stream",
          "name": "stdout",
          "text": [
            "[ 6  8 10 12]\n"
          ]
        }
      ]
    },
    {
      "cell_type": "code",
      "source": [
        "import numpy as np\n",
        "\n",
        "# Defina arrays para velocidade inicial, ângulo e tempo.\n",
        "v_0 = 20  # m/s\n",
        "theta = 45  # graus\n",
        "g = 9.8  # m/s^2\n",
        "\n",
        "# Convertendo o ângulo para radianos\n",
        "theta_rad = np.deg2rad(theta)\n",
        "\n",
        "# Tempo de voo máximo (quando o projétil retorna ao nível do solo)\n",
        "t_max = 2 * v_0 * np.sin(theta_rad) / g\n",
        "\n",
        "# Array de tempo\n",
        "t = np.linspace(0, t_max, 100)\n",
        "\n",
        "# Posições horizontal e vertical do projétil\n",
        "x = v_0 * np.cos(theta_rad) * t\n",
        "y = v_0 * np.sin(theta_rad) * t - 0.5 * g * t**2\n",
        "\n",
        "# Imprima as posições horizontal e vertical.\n",
        "print(\"Posição Horizontal (x):\")\n",
        "print(x)\n",
        "print(\"\\nPosição Vertical (y):\")\n",
        "print(y)\n"
      ],
      "metadata": {
        "colab": {
          "base_uri": "https://localhost:8080/"
        },
        "id": "chkzOgr728OA",
        "outputId": "87e723aa-ad9d-4af9-ff17-78b3a431a0e5"
      },
      "execution_count": null,
      "outputs": [
        {
          "output_type": "stream",
          "name": "stdout",
          "text": [
            "Posição Horizontal (x):\n",
            "[ 0.          0.41228613  0.82457225  1.23685838  1.64914451  2.06143063\n",
            "  2.47371676  2.88600289  3.29828901  3.71057514  4.12286127  4.53514739\n",
            "  4.94743352  5.35971965  5.77200577  6.1842919   6.59657803  7.00886415\n",
            "  7.42115028  7.8334364   8.24572253  8.65800866  9.07029478  9.48258091\n",
            "  9.89486704 10.30715316 10.71943929 11.13172542 11.54401154 11.95629767\n",
            " 12.3685838  12.78086992 13.19315605 13.60544218 14.0177283  14.43001443\n",
            " 14.84230056 15.25458668 15.66687281 16.07915894 16.49144506 16.90373119\n",
            " 17.31601732 17.72830344 18.14058957 18.5528757  18.96516182 19.37744795\n",
            " 19.78973408 20.2020202  20.61430633 21.02659246 21.43887858 21.85116471\n",
            " 22.26345083 22.67573696 23.08802309 23.50030921 23.91259534 24.32488147\n",
            " 24.73716759 25.14945372 25.56173985 25.97402597 26.3863121  26.79859823\n",
            " 27.21088435 27.62317048 28.03545661 28.44774273 28.86002886 29.27231499\n",
            " 29.68460111 30.09688724 30.50917337 30.92145949 31.33374562 31.74603175\n",
            " 32.15831787 32.570604   32.98289013 33.39517625 33.80746238 34.21974851\n",
            " 34.63203463 35.04432076 35.45660689 35.86889301 36.28117914 36.69346526\n",
            " 37.10575139 37.51803752 37.93032364 38.34260977 38.7548959  39.16718202\n",
            " 39.57946815 39.99175428 40.4040404  40.81632653]\n",
            "\n",
            "Posição Vertical (y):\n",
            "[ 0.00000000e+00  4.08121620e-01  8.07914228e-01  1.19937782e+00\n",
            "  1.58251241e+00  1.95731797e+00  2.32379453e+00  2.68194208e+00\n",
            "  3.03176061e+00  3.37325013e+00  3.70641063e+00  4.03124213e+00\n",
            "  4.34774461e+00  4.65591808e+00  4.95576253e+00  5.24727797e+00\n",
            "  5.53046440e+00  5.80532182e+00  6.07185023e+00  6.33004962e+00\n",
            "  6.57992000e+00  6.82146137e+00  7.05467372e+00  7.27955706e+00\n",
            "  7.49611139e+00  7.70433671e+00  7.90423301e+00  8.09580030e+00\n",
            "  8.27903858e+00  8.45394785e+00  8.62052810e+00  8.77877934e+00\n",
            "  8.92870157e+00  9.07029478e+00  9.20355899e+00  9.32849418e+00\n",
            "  9.44510035e+00  9.55337752e+00  9.65332567e+00  9.74494481e+00\n",
            "  9.82823494e+00  9.90319605e+00  9.96982815e+00  1.00281312e+01\n",
            "  1.00781053e+01  1.01197504e+01  1.01530664e+01  1.01780535e+01\n",
            "  1.01947115e+01  1.02030405e+01  1.02030405e+01  1.01947115e+01\n",
            "  1.01780535e+01  1.01530664e+01  1.01197504e+01  1.00781053e+01\n",
            "  1.00281312e+01  9.96982815e+00  9.90319605e+00  9.82823494e+00\n",
            "  9.74494481e+00  9.65332567e+00  9.55337752e+00  9.44510035e+00\n",
            "  9.32849418e+00  9.20355899e+00  9.07029478e+00  8.92870157e+00\n",
            "  8.77877934e+00  8.62052810e+00  8.45394785e+00  8.27903858e+00\n",
            "  8.09580030e+00  7.90423301e+00  7.70433671e+00  7.49611139e+00\n",
            "  7.27955706e+00  7.05467372e+00  6.82146137e+00  6.57992000e+00\n",
            "  6.33004962e+00  6.07185023e+00  5.80532182e+00  5.53046440e+00\n",
            "  5.24727797e+00  4.95576253e+00  4.65591808e+00  4.34774461e+00\n",
            "  4.03124213e+00  3.70641063e+00  3.37325013e+00  3.03176061e+00\n",
            "  2.68194208e+00  2.32379453e+00  1.95731797e+00  1.58251241e+00\n",
            "  1.19937782e+00  8.07914228e-01  4.08121620e-01 -7.10542736e-15]\n"
          ]
        }
      ]
    },
    {
      "cell_type": "code",
      "source": [
        "import numpy as np\n",
        "import matplotlib.pyplot as plt\n",
        "\n",
        "# Defina arrays para tempo (t) e deslocamento (x).\n",
        "# A amplitude (A) é 1m e a velocidade angular (omega) é 2*pi rad/s.\n",
        "A = 1  # amplitude\n",
        "omega = 2 * np.pi  # velocidade angular\n",
        "\n",
        "# Array de tempo (t) variando de 0 a 2*pi com 100 pontos.\n",
        "t = np.linspace(0, 2*np.pi, 100)\n",
        "\n",
        "# Deslocamento (x) é calculado usando a equação do movimento harmônico simples.\n",
        "x = A * np.sin(omega * t)\n",
        "\n",
        "# Represente graficamente o deslocamento de um objeto em movimento harmônico simples.\n",
        "plt.plot(t, x)\n",
        "plt.title(\"Movimento Harmônico Simples\")\n",
        "plt.xlabel(\"Tempo (s)\")\n",
        "plt.ylabel(\"Deslocamento (m)\")\n",
        "plt.grid(True)\n",
        "plt.show()\n"
      ],
      "metadata": {
        "colab": {
          "base_uri": "https://localhost:8080/",
          "height": 472
        },
        "id": "lgwKhleB3iAE",
        "outputId": "788a8028-6ee2-4634-9c72-9f132a1b7331"
      },
      "execution_count": null,
      "outputs": [
        {
          "output_type": "display_data",
          "data": {
            "text/plain": [
              "<Figure size 640x480 with 1 Axes>"
            ],
            "image/png": "[encoded data removed]"
          },
          "metadata": {}
        }
      ]
    },
    {
      "cell_type": "code",
      "source": [
        "import numpy as np\n",
        "\n",
        "# Defina um array de 10 inteiros.\n",
        "array = np.array([1, 2, 3, 4, 5, 6, 7, 8, 9, 10])\n",
        "\n",
        "# Imprima sua forma.\n",
        "print(\"Forma original do array:\", array.shape)\n",
        "\n",
        "# Remodele-a em uma matriz 2x5.\n",
        "matriz = array.reshape(2, 5)\n",
        "\n",
        "# Imprima a matriz remodelada.\n",
        "print(\"Matriz remodelada:\")\n",
        "print(matriz)\n"
      ],
      "metadata": {
        "colab": {
          "base_uri": "https://localhost:8080/"
        },
        "id": "sGrCoSVp4MZG",
        "outputId": "aaf664c0-a621-4400-8fcb-69d3d9affd4a"
      },
      "execution_count": null,
      "outputs": [
        {
          "output_type": "stream",
          "name": "stdout",
          "text": [
            "Forma original do array: (10,)\n",
            "Matriz remodelada:\n",
            "[[ 1  2  3  4  5]\n",
            " [ 6  7  8  9 10]]\n"
          ]
        }
      ]
    },
    {
      "cell_type": "code",
      "source": [
        "# Defina um array de 10 inteiros.\n",
        "array = np.array([1, 2, 3, 4, 5, 6, 7, 8, 9, 10])\n",
        "\n",
        "# Extraia e imprima apenas os números pares do array usando indexação booleana.\n",
        "pares = array[array % 2 == 0]\n",
        "print(\"Números pares:\", pares)\n"
      ],
      "metadata": {
        "colab": {
          "base_uri": "https://localhost:8080/"
        },
        "id": "qOyBVFy94PIn",
        "outputId": "44404b4c-9a81-49f3-9260-33d90c97f871"
      },
      "execution_count": null,
      "outputs": [
        {
          "output_type": "stream",
          "name": "stdout",
          "text": [
            "Números pares: [ 2  4  6  8 10]\n"
          ]
        }
      ]
    },
    {
      "cell_type": "code",
      "source": [
        "# Defina dois arrays de inteiros.\n",
        "array1 = np.array([1, 2, 3, 4])\n",
        "array2 = np.array([5, 6, 7, 8])\n",
        "\n",
        "# Calcule o produto escalar de dois arrays de inteiros usando numpy.\n",
        "produto_escalar = np.dot(array1, array2)\n",
        "\n",
        "# Imprima o resultado.\n",
        "print(\"Produto escalar:\", produto_escalar)\n"
      ],
      "metadata": {
        "colab": {
          "base_uri": "https://localhost:8080/"
        },
        "id": "o3t6ey-j4U94",
        "outputId": "6e91ee3b-7bf1-4e77-fb24-1ac302b571e9"
      },
      "execution_count": null,
      "outputs": [
        {
          "output_type": "stream",
          "name": "stdout",
          "text": [
            "Produto escalar: 70\n"
          ]
        }
      ]
    },
    {
      "cell_type": "code",
      "source": [
        "# Crie uma matriz 2x3 usando numpy.\n",
        "matriz = np.array([[1, 2, 3], [4, 5, 6]])\n",
        "\n",
        "# Transponha a matriz.\n",
        "matriz_transposta = matriz.T\n",
        "\n",
        "# Imprima a matriz transposta.\n",
        "print(\"Matriz transposta:\")\n",
        "print(matriz_transposta)\n"
      ],
      "metadata": {
        "id": "W_nHhbRT4rxV",
        "outputId": "b3d193cd-c5f6-4979-adc0-3ea124bff8f6",
        "colab": {
          "base_uri": "https://localhost:8080/"
        }
      },
      "execution_count": null,
      "outputs": [
        {
          "output_type": "stream",
          "name": "stdout",
          "text": [
            "Matriz transposta:\n",
            "[[1 4]\n",
            " [2 5]\n",
            " [3 6]]\n"
          ]
        }
      ]
    },
    {
      "cell_type": "markdown",
      "source": [
        "# Continuação das atividades - Lista Python 3"
      ],
      "metadata": {
        "id": "Dvyz5_9Y5N5v"
      }
    },
    {
      "cell_type": "code",
      "source": [
        "# Solicita um número ao usuário\n",
        "numero = int(input(\"Digite um número: \"))\n",
        "\n",
        "# Verifica se o número é par ou ímpar\n",
        "if numero % 2 == 0:\n",
        "    print(f\"{numero} é um número par.\")\n",
        "else:\n",
        "    print(f\"{numero} é um número ímpar.\")\n"
      ],
      "metadata": {
        "colab": {
          "base_uri": "https://localhost:8080/"
        },
        "id": "IXxH9p255wgV",
        "outputId": "893c12a4-e28b-4528-805f-d6291138d13d"
      },
      "execution_count": null,
      "outputs": [
        {
          "output_type": "stream",
          "name": "stdout",
          "text": [
            "Digite um número: 2\n",
            "2 é um número par.\n"
          ]
        }
      ]
    },
    {
      "cell_type": "code",
      "source": [
        "# Solicita uma nota ao usuário\n",
        "nota = float(input(\"Digite sua nota (0-100): \"))\n",
        "\n",
        "# Verifica se a nota é maior ou igual a 60 para considerar como aprovado\n",
        "if nota >= 60:\n",
        "    print(\"Aprovado\")\n",
        "else:\n",
        "    print(\"Reprovado\")\n"
      ],
      "metadata": {
        "colab": {
          "base_uri": "https://localhost:8080/"
        },
        "id": "tAeClpC06BGc",
        "outputId": "52cb3d9c-b49f-4264-a3c8-a865130259a4"
      },
      "execution_count": null,
      "outputs": [
        {
          "output_type": "stream",
          "name": "stdout",
          "text": [
            "Digite sua nota (0-100): 59\n",
            "Reprovado\n"
          ]
        }
      ]
    },
    {
      "cell_type": "code",
      "source": [
        "import random\n",
        "\n",
        "# Gera um número aleatório entre 1 e 100\n",
        "numero_aleatorio = random.randint(1, 100)\n",
        "adivinhou = False\n",
        "\n",
        "# Loop continua até o usuário acertar o número\n",
        "while not adivinhou:\n",
        "    # Solicita um palpite ao usuário\n",
        "    palpite = int(input(\"Tente adivinhar o número entre 1 e 100: \"))\n",
        "\n",
        "    # Verifica se o palpite é igual ao número aleatório\n",
        "    if palpite == numero_aleatorio:\n",
        "        print(\"Parabéns! Você acertou!\")\n",
        "        adivinhou = True\n",
        "    # Fornece feedback se o palpite é muito alto\n",
        "    elif palpite < numero_aleatorio:\n",
        "        print(\"O número é maior.\")\n",
        "    # Fornece feedback se o palpite é muito baixo\n",
        "    else:\n",
        "        print(\"O número é menor.\")\n"
      ],
      "metadata": {
        "colab": {
          "base_uri": "https://localhost:8080/"
        },
        "id": "aTsDdPLS6HB4",
        "outputId": "11063312-9538-4ab8-e023-ebd2b6c709a1"
      },
      "execution_count": null,
      "outputs": [
        {
          "output_type": "stream",
          "name": "stdout",
          "text": [
            "Tente adivinhar o número entre 1 e 100: 50\n",
            "O número é maior.\n",
            "Tente adivinhar o número entre 1 e 100: 80\n",
            "O número é maior.\n",
            "Tente adivinhar o número entre 1 e 100: 90\n",
            "O número é menor.\n",
            "Tente adivinhar o número entre 1 e 100: 85\n",
            "O número é menor.\n",
            "Tente adivinhar o número entre 1 e 100: 82\n",
            "O número é maior.\n",
            "Tente adivinhar o número entre 1 e 100: 84\n",
            "O número é menor.\n",
            "Tente adivinhar o número entre 1 e 100: 83\n",
            "Parabéns! Você acertou!\n"
          ]
        }
      ]
    },
    {
      "cell_type": "code",
      "source": [
        "# Solicita um número inteiro positivo ao usuário\n",
        "numero = int(input(\"Digite um número inteiro positivo: \"))\n",
        "fatorial = 1\n",
        "\n",
        "# Verifica se o número é negativo\n",
        "if numero < 0:\n",
        "    print(\"Por favor, digite um número positivo.\")\n",
        "# Calcula o fatorial se o número for positivo\n",
        "elif numero == 0:\n",
        "    print(\"O fatorial de 0 é 1.\")\n",
        "else:\n",
        "    # Calcula o fatorial usando um loop while\n",
        "    while numero > 0:\n",
        "        fatorial *= numero\n",
        "        numero -= 1\n",
        "\n",
        "    print(f\"O fatorial é {fatorial}.\")\n"
      ],
      "metadata": {
        "colab": {
          "base_uri": "https://localhost:8080/"
        },
        "id": "4ZeD0jDt6fLc",
        "outputId": "eee395a6-2bb1-4c2b-e9a7-9c2ea4049ee4"
      },
      "execution_count": null,
      "outputs": [
        {
          "output_type": "stream",
          "name": "stdout",
          "text": [
            "Digite um número inteiro positivo: 23\n",
            "O fatorial é 25852016738884976640000.\n"
          ]
        }
      ]
    },
    {
      "cell_type": "code",
      "source": [
        "# Solicita uma string ao usuário\n",
        "string = input(\"Digite uma string: \")\n",
        "string_reversa = string[::-1]\n",
        "\n",
        "# Verifica se a string é igual à sua versão reversa\n",
        "if string == string_reversa:\n",
        "    print(f\"{string} é um palíndromo.\")\n",
        "else:\n",
        "    print(f\"{string} não é um palíndromo.\")\n"
      ],
      "metadata": {
        "colab": {
          "base_uri": "https://localhost:8080/"
        },
        "id": "zGMXTidi6oQ_",
        "outputId": "7496f499-f45e-4ac4-e5cb-297e2bfed022"
      },
      "execution_count": null,
      "outputs": [
        {
          "output_type": "stream",
          "name": "stdout",
          "text": [
            "Digite uma string: reviver\n",
            "reviver é um palíndromo.\n"
          ]
        }
      ]
    },
    {
      "cell_type": "code",
      "source": [
        "# Solicita um número ao usuário\n",
        "numero = int(input(\"Digite um número: \"))\n",
        "primo = True\n",
        "\n",
        "# Verifica se o número é menor que 2, pois números menores que 2 não são primos\n",
        "if numero < 2:\n",
        "    primo = False\n",
        "else:\n",
        "    # Verifica se o número é divisível por algum número além de 1 e ele mesmo\n",
        "    for i in range(2, int(numero ** 0.5) + 1):\n",
        "        if numero % i == 0:\n",
        "            primo = False\n",
        "            break\n",
        "\n",
        "# Exibe o resultado\n",
        "if primo:\n",
        "    print(f\"{numero} é um número primo.\")\n",
        "else:\n",
        "    print(f\"{numero} não é um número primo.\")\n"
      ],
      "metadata": {
        "colab": {
          "base_uri": "https://localhost:8080/"
        },
        "id": "gnY6-QDk7NLp",
        "outputId": "736bb34f-a279-4cac-dbed-cd971ca5dbcc"
      },
      "execution_count": null,
      "outputs": [
        {
          "output_type": "stream",
          "name": "stdout",
          "text": [
            "Digite um número: 1\n",
            "1 não é um número primo.\n"
          ]
        }
      ]
    }
  ]
}